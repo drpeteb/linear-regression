{
 "metadata": {
  "name": "",
  "signature": "sha256:c8a4106ad240e603f30234fda6242751ae600b07f4b2e03fbb27a2e9203c6d2c"
 },
 "nbformat": 3,
 "nbformat_minor": 0,
 "worksheets": [
  {
   "cells": [
    {
     "cell_type": "heading",
     "level": 1,
     "metadata": {},
     "source": [
      "Introduction"
     ]
    },
    {
     "cell_type": "markdown",
     "metadata": {},
     "source": [
      "Other people's stats homework is fun, as is making notebooks. A friend, Max, recently asked me about a regression problem for a paper he's writing. This is how I think it should be done. First, get some modules and define some functions we'll need."
     ]
    },
    {
     "cell_type": "code",
     "collapsed": false,
     "input": [
      "%matplotlib inline\n",
      "import matplotlib.pyplot as plt\n",
      "import numpy as np\n",
      "import scipy as sp\n",
      "import scipy.linalg as la\n",
      "import scipy.stats as stats\n",
      "\n",
      "# Sample wishart variable. There is a function in scipy 0.17, the development version, but not the current 0.15\n",
      "def sample_wishart(nu, P):\n",
      "    dim = P.shape[0]\n",
      "    cholP = la.cholesky(P,lower=True)\n",
      "    R = np.zeros((dim,dim))\n",
      "    for ii in range(dim):\n",
      "        R[ii,ii] = np.sqrt(stats.chi2.rvs(nu-(ii+1)+1))\n",
      "        for jj in range(ii+1,dim):\n",
      "            R[jj,ii] = stats.norm.rvs()\n",
      "    cholX = np.dot(cholP,R)\n",
      "    X = np.dot(cholX,cholX.T)\n",
      "    return X\n",
      "\n",
      "# Sample matrix normal variable\n",
      "def sample_matrix_normal(M,U,V):\n",
      "    Mv = M.flatten()\n",
      "    Sv = np.kron(V,U)\n",
      "    Xv = stats.multivariate_normal.rvs(mean=Mv,cov=Sv)\n",
      "    X = np.reshape(Xv,M.shape)\n",
      "    return X"
     ],
     "language": "python",
     "metadata": {},
     "outputs": [],
     "prompt_number": 1
    },
    {
     "cell_type": "heading",
     "level": 1,
     "metadata": {},
     "source": [
      "The Scenario"
     ]
    },
    {
     "cell_type": "markdown",
     "metadata": {},
     "source": [
      "Here's the situation. There's a model for a system which has a single scalar parameter. We want to work out the value of this parameter using measurements of the system, so we can draw conclusions about another aspect of the system which we can't measure.\n",
      "\n",
      "To be a bit more specific, the system is the world's atmosphere, the parameter is the heat flux on antarctica, the measurements are of isotope content in ice cores, and the hidden aspect we want to know about is sea ice retreat at a particular period in the past.\n",
      "\n",
      "Max has run a number of \"time-slice\" simulations, each with a different value for the heat flux. The climate model is pretty good, but we don't know the initial conditions, so the idea of these is to just set it running and wait for the simulation to reach some sort of equilibrium. Then we compare statistics of the simulated world to the real thing and so try to work out what the actual flux might have been, and thus infer how much sea ice retreat there was in the past.\n",
      "\n"
     ]
    },
    {
     "cell_type": "heading",
     "level": 1,
     "metadata": {},
     "source": [
      "Some Notation"
     ]
    },
    {
     "cell_type": "markdown",
     "metadata": {},
     "source": [
      "There are four measurement sites, each of which provides us with a scalar isotope measurement for the historical period we're interested in. We'll stack these in a vector and call it $m$.\n",
      "\n",
      "The simulator produces predictions for the isotope contents at these sites. We'll use $z$ to denote a vector of predictions corresponding to $m$. To remove the seasonal variation, this is derived by averaging each year of data.\n",
      "\n",
      "The simulator also produces predictions of sea ice retreat. Call this $z$. There's a seasonal variation here again so to remove that effect, $z$ is the annual peak value.\n",
      "\n",
      "After each simulation has reached equilibrium, we let it run for 30 years or so and record $y$ and $z$ each year. We'll use subscript $i$ to index the year. The distribution of the $y_i$s and $z_i$s allows us to characterise the probable uncertainty in the measured values. (N.B. This statement needs some careful thought. It basically means we're going to assume that measurement error is small compared to the chaotic variability of the climate. That's probably a reasonable asusmption.)\n",
      "\n",
      "Finally, Max has run a whole bunch of these simulations, each with a different value of $x$. We'll index the simulation with a superscript $(j)$.\n",
      "\n",
      "Here's roughly what it looks like..."
     ]
    },
    {
     "cell_type": "code",
     "collapsed": false,
     "input": [
      "# Generate some fake measurements\n",
      "m = [34,26,42,36,40]\n",
      "\n",
      "# Make up some parameters\n",
      "K = 30\n",
      "N = 13\n",
      "X = np.linspace(0,120,N)\n",
      "a = np.array([0.1, 0.1, 0.1, 0.1, 0.4])\n",
      "b = m + np.array([-6.0, -6.0, -6.0, -6.0, 0.0])\n",
      "Sigma = np.array([[2,1,0.5,0.5,0.5],[1,2,1,0.5,0.5],[0.5,1,2,1,0.5],[0.5,0.5,1,2,1],[0.5,0.5,0.5,1,10]])\n",
      "\n",
      "# Generate some arrays for the fake simulation output\n",
      "Ze = np.zeros((N,K,5))\n",
      "Y  = np.zeros((N,K,4))\n",
      "Z  = np.zeros((N,K))\n",
      "\n",
      "# Loop through simulations and years\n",
      "for jj in range(N):\n",
      "    for ii in range(K):\n",
      "        \n",
      "        # Sample random data\n",
      "        Ze[jj,ii,:] = stats.multivariate_normal.rvs(mean=a*X[jj]+b,cov=Sigma)\n",
      "        Y[jj,ii,:]  = Ze[jj,ii,:4]\n",
      "        Z[jj,ii]    = Ze[jj,ii,4:]\n",
      "        \n",
      "# Make a figure\n",
      "fig = plt.figure(figsize=[12,12])\n",
      "\n",
      "# Loop through measurement sites and plot data\n",
      "for kk in range(4):\n",
      "    \n",
      "    # Make a subplot\n",
      "    ax = fig.add_subplot(2,2,kk+1)\n",
      "    plt.tight_layout()\n",
      "    ax.plot([0,120],[m[kk],m[kk]],':k')\n",
      "    ax.set_xlabel('$x$')\n",
      "    ax.set_ylabel('$y_{}$'.format(kk))\n",
      "    ax.set_title('Measurement site {}'.format(kk))\n",
      "    \n",
      "    for jj in range(N):\n",
      "        for ii in range(K):\n",
      "        \n",
      "            # Plot it\n",
      "            ax.plot(X[jj],Y[jj,ii,kk], 'b+')\n",
      "            \n",
      "# Same again for the sea ice\n",
      "fig = plt.figure(figsize=[6,6])\n",
      "ax = fig.add_subplot(1,1,1)\n",
      "ax.set_xlabel('$x$')\n",
      "ax.set_ylabel('$z$')\n",
      "ax.set_title('Sea ice retreat')\n",
      "for jj in range(N):\n",
      "    for ii in range(K):\n",
      "        ax.plot(X[jj],Z[jj,ii], 'r+')\n",
      "\n",
      "plt.show()"
     ],
     "language": "python",
     "metadata": {},
     "outputs": [
      {
       "metadata": {},
       "output_type": "display_data",
       "png": "[encoded data removed]",
       "text": [
        "<matplotlib.figure.Figure at 0x7f291e740990>"
       ]
      },
      {
       "metadata": {},
       "output_type": "display_data",
       "png": "[encoded data removed]",
       "text": [
        "<matplotlib.figure.Figure at 0x7f291e740dd0>"
       ]
      }
     ],
     "prompt_number": 2
    },
    {
     "cell_type": "heading",
     "level": 1,
     "metadata": {},
     "source": [
      "The Plan"
     ]
    },
    {
     "cell_type": "markdown",
     "metadata": {},
     "source": [
      "A preliminary investigation (i.e. we plotted the data and looked at it) suggests that the relationship between heat flux, isotope content and sea ice retreat is linear. This is backed up by theory (more heat melts more ice so more isotope). Actually, we need to qualify this: It looks linear up until the point where all the ice has gone, then it looks like it saturates. However, its the linear region where we get isoptope numbers close to the measurements, so we'll throw away the really high heat flux results and fit a linear model to what remains.\n",
      "\n",
      "What we're saying here is that if we only look in this region, and we're only interested in these variables, then we don't need to run the simulator for every value of $x$, we can simply use this linear model to interpolate. Once we've fitted the linear model, we can then look at using it to find the point where it best fits the measurements.\n",
      "\n",
      "To be very clear, there's going to be two stages. First fit a linear model to the simulator output in the linear region. Then find the input value where the linear model output is closest to the measurements. We're going to do this all in a Bayesian regression framework."
     ]
    },
    {
     "cell_type": "heading",
     "level": 1,
     "metadata": {},
     "source": [
      "The Linear Model"
     ]
    },
    {
     "cell_type": "markdown",
     "metadata": {},
     "source": [
      "Time for the fun bit. Our linear model for the simulator in the region of interest is,\n",
      "\\begin{equation}\n",
      "\\zeta_i^{(j)} \\underset{\\text{i.i.d}}{\\sim} \\mathcal{N}\\left(a x^{(j)} + b, \\Sigma\\right)     ,\n",
      "\\end{equation}\n",
      "where $\\zeta_i^{(j)}$ is an augmented vector of simulator outputs,\n",
      "\\begin{equation}\n",
      "\\zeta_i^{j} = \\begin{bmatrix} y_i^{(j)} \\\\ z_i^{(j)} \\end{bmatrix}     .\n",
      "\\end{equation}\n",
      "In words, we're modelling the annual values for isotope content and sea ice retreat as having some random variation around a mean value determined by the heat flux.\n",
      "\n",
      "There's three unknowns in our model, the slope and intercept vectors $a$ and $b$, and the covariance matrix $\\Sigma$. To ease the algebra later on, we'll put $a$ and $b$ together into a matrix,\n",
      "\\begin{equation}\n",
      "\\theta = \\begin{bmatrix}a & b\\end{bmatrix}     ,\n",
      "\\end{equation}\n",
      "and also define this vector,\n",
      "\\begin{equation}\n",
      "\\tilde{x}^{(j)}=\\begin{bmatrix}x^{(j)} \\\\ 1\\end{bmatrix}     ,\n",
      "\\end{equation}\n",
      "so that we can rewrite,\n",
      "\\begin{equation}\n",
      "a x^{(j)} + b = \\theta \\tilde{x}^{(j)}     .\n",
      "\\end{equation}\n",
      "We'll also use the following notation for the sets of simulation values,\n",
      "\\begin{align}\n",
      "X &= \\{x^{(j)}\\} \\\\\n",
      "Z &= \\{\\zeta_i^{(j)}\\}\n",
      "\\end{align}\n",
      "\n",
      "Using this, we can write a likelihood for all the simulation outputs (from all $N$ simulations, each with $K$ years) conditional on the parameters,\n",
      "\\begin{align}\n",
      "p\\left(Z \\middle| X, \\theta,\\Sigma\\right) &= \\prod_{i,j} \\left\\{ \\left|2 \\pi \\Sigma\\right|^{-\\frac{1}{2}} \\exp\\left(-\\frac{1}{2} (\\zeta_i^{(j)}-\\theta \\tilde{x}^{(j)})^T \\Sigma^{-1} (\\zeta_i^{(j)}-\\theta \\tilde{x}^{(j)}) \\right) \\right\\} \\\\\n",
      "&= \\left|2 \\pi \\Sigma\\right|^{-\\frac{NK}{2}} \\exp\\left(-\\frac{1}{2} \\sum_{i,j} (\\zeta_i^{(j)}-\\theta \\tilde{x}^{(j)})^T \\Sigma^{-1} (\\zeta_i^{(j)}-\\theta \\tilde{x}^{(j)}) \\right)     .\n",
      "\\end{align}\n",
      "\n",
      "Since we're being good Bayesians, we'll put a prior distribution over the unknown parameters. An uninformative conjugate prior is usually a good choice in these situations, which means a matrix-normal-inverse-Wishart distribution in this case,\n",
      "\\begin{align}\n",
      "p(\\theta, \\Sigma) &= \\mathcal{MN}\\left(\\theta \\middle| M_0, \\Sigma, V_0 \\right) \\mathcal{IW}\\left(\\Sigma \\middle| \\nu_0, \\Psi_0 \\right) \\\\\n",
      " &= \\left|2 \\pi \\Sigma\\right|^{-\\frac{1}{2}} \\left|2 \\pi V_0\\right|^{-\\frac{1}{2}} \\exp\\left(-\\frac{1}{2}(\\theta-M_0)^T  \\Sigma^{-1} (\\theta-M_0) V_0^{-1} \\right) \\times \\frac{ \\left|\\Psi_0\\right|^{\\frac{\\nu_0}{2}} }{ 2^{\\frac{\\nu_0 d}{2}} \\Gamma_{d}\\left(\\frac{\\nu_0}{2}\\right) } \\left|\\Sigma\\right|^{-\\frac{\\nu_0+d+1}{2}} \\exp\\left( -\\frac{1}{2} \\text{Tr}\\left[\\Psi_0\\Sigma^{-1}\\right] \\right)     ,\n",
      "\\end{align}\n",
      "where $d=5$ is the dimension of $\\zeta$, and $M_0$, $V_0$, $\\nu_0$ and $\\Psi_0$ are hyperparameters which we need to specify."
     ]
    },
    {
     "cell_type": "heading",
     "level": 1,
     "metadata": {},
     "source": [
      "Inference - Part 1"
     ]
    },
    {
     "cell_type": "markdown",
     "metadata": {},
     "source": [
      "Now we invoke Bayes theorem, and after a load of tedious algebra we find,\n",
      "\\begin{align}\n",
      "p\\left(\\theta,\\Sigma \\middle| X, Z \\right) &= p\\left(Z \\middle|X, \\theta,\\Sigma\\right) p\\left( \\theta,\\Sigma\\right) \\\\\n",
      "&= \\mathcal{MN}\\left(\\theta \\middle| M, \\Sigma, V\\right) \\mathcal{IW}\\left(\\Sigma \\middle| \\nu, \\Psi\\right)\n",
      "\\end{align}\n",
      "which is the beauty of using a conjugate prior. The update hyperparameters are,\n",
      "\\begin{align}\n",
      "V^{-1} &= V_0^{-1} + K \\sum_{j} \\tilde{x}^{(j)}\\tilde{x}^{(j)T} \\\\\n",
      "M      &= \\left( M_0V_0^{-1} + \\sum_{i,j} \\zeta_i^{(j)} \\tilde{x}^{(j)T} \\right) V \\\\\n",
      "\\nu    &= \\nu_0 + NK \\\\\n",
      "\\Psi   &= \\Psi_0 + \\sum_{i,j} \\zeta_i^{(j)}\\zeta_i^{(j)T} + M_0V_0^{-1}M_0^T - MV^{-1}M^T      .\n",
      "\\end{align}\n",
      "\n",
      "We don't really have any useful prior information on what the parameters should be, so we'll let our prior be uninformative by letting $\\Psi_0\\to0$, $V_0^{-1}\\to0$, and $\\nu_0\\to0$, such that,\n",
      "\\begin{align}\n",
      "V^{-1} &= K \\sum_{j} \\tilde{x}^{(j)}\\tilde{x}^{(j)T} \\\\\n",
      "M      &= \\left( \\sum_{i,j} \\zeta_i^{(j)} \\tilde{x}^{(j)T} \\right) \\left( K \\sum_{j} \\tilde{x}^{(j)}\\tilde{x}^{(j)T} \\right)^{-1} \\\\\n",
      "\\nu    &= NK \\\\\n",
      "\\Psi   &= \\sum_{i,j} \\zeta_i^{(j)}\\zeta_i^{(j)T} - \\left( \\sum_{i,j} \\zeta_i^{(j)} \\tilde{x}^{(j)T} \\right) \\left( K \\sum_{j} \\tilde{x}^{(j)}\\tilde{x}^{(j)T} \\right)^{-1} \\left( \\sum_{i,j} \\zeta_i^{(j)} \\tilde{x}^{(j)T} \\right)^T      .\n",
      "\\end{align}\n",
      "\n",
      "Testing time..."
     ]
    },
    {
     "cell_type": "code",
     "collapsed": false,
     "input": [
      "# Make some arrays for the sufficient statistics\n",
      "Sxx = np.zeros((2,2))\n",
      "Szx = np.zeros((5,2))\n",
      "Szz = np.zeros((5,5))\n",
      "Sc  = 0\n",
      "\n",
      "# Loop through simulations and years and calculate SSs\n",
      "for jj in range(N):\n",
      "    for ii in range(K):\n",
      "        \n",
      "        xt = np.array([X[jj],1])\n",
      "        Sxx += np.outer(xt,xt)\n",
      "        Szx += np.outer(Ze[jj,ii,:],xt)\n",
      "        Szz += np.outer(Ze[jj,ii,:],Ze[jj,ii,:])\n",
      "        Sc  += 1\n",
      "\n",
      "# Now calculate the parameters\n",
      "V   = la.inv(Sxx)\n",
      "M   = np.dot( Szx,V )\n",
      "nu  = Sc\n",
      "Psi = Szz - np.dot( M, Szx.T )\n",
      "\n",
      "print(\"True slope vector:\")\n",
      "print(a)\n",
      "print(\"Estimated slope vector (mean):\")\n",
      "print(M[:,0])\n",
      "print(\"\")\n",
      "print(\"True intercept vector:\")\n",
      "print(m+b)\n",
      "print(\"Estimated intercept vector (mean):\")\n",
      "print(M[:,1])\n",
      "print(\"\")\n",
      "print(\"True covariance matrix:\")\n",
      "print(Sigma)\n",
      "print(\"Estimated covariance matrix (mean):\")\n",
      "print(Psi/(nu-5-1))"
     ],
     "language": "python",
     "metadata": {},
     "outputs": [
      {
       "output_type": "stream",
       "stream": "stdout",
       "text": [
        "True slope vector:\n",
        "[ 0.1  0.1  0.1  0.1  0.4]\n",
        "Estimated slope vector (mean):\n",
        "[ 0.1021804   0.1012897   0.10058045  0.10244956  0.40432235]\n",
        "\n",
        "True intercept vector:\n",
        "[ 62.  46.  78.  66.  80.]\n",
        "Estimated intercept vector (mean):\n",
        "[ 27.89127414  19.81444308  35.94278427  29.93260333  39.75943936]\n",
        "\n",
        "True covariance matrix:\n",
        "[[  2.    1.    0.5   0.5   0.5]\n",
        " [  1.    2.    1.    0.5   0.5]\n",
        " [  0.5   1.    2.    1.    0.5]\n",
        " [  0.5   0.5   1.    2.    1. ]\n",
        " [  0.5   0.5   0.5   1.   10. ]]\n",
        "Estimated covariance matrix (mean):\n",
        "[[  2.21778919   1.28904401   0.58332728   0.53812358   0.88976649]\n",
        " [  1.28904401   2.18079227   1.00778783   0.60705565   0.80569599]\n",
        " [  0.58332728   1.00778783   1.90507539   1.08326508   0.64235038]\n",
        " [  0.53812358   0.60705565   1.08326508   1.97548666   1.31357459]\n",
        " [  0.88976649   0.80569599   0.64235038   1.31357459  10.65176786]]\n"
       ]
      }
     ],
     "prompt_number": 3
    },
    {
     "cell_type": "heading",
     "level": 1,
     "metadata": {},
     "source": [
      "Inference - Part 2"
     ]
    },
    {
     "cell_type": "markdown",
     "metadata": {},
     "source": [
      "Now, what we really care about is the sea ice retreat, and how is related to the recorded isotope measurements. The heat flux, and the linear model parameters are just nuisance variables, so what we'd like to do is marginalise them, and calculate,\n",
      "\\begin{align}\n",
      "p(\\zeta|X, Z) &= \\int p(\\zeta|x, \\theta, \\Sigma) p(\\theta, \\Sigma|X, Z) p(x) d\\theta d\\Sigma dx \\\\\n",
      "\\end{align}\n",
      "Having done that, and recalling that $\\zeta$ is just $y$ and $z$ concatenated, we could condition on the known values of the measurements, i.e. the event $y=m$, and find the resulting distribution of $z$.\n",
      "\n",
      "Unfortunately, that won't work. We can't do all three of the integrals analytically. Pity. We could do two of them - $\\theta$ and $\\Sigma$ - and try to take care of the third with some simple Monte Carlo. But we'll be wanting to make the prior $p(x)$ uninformative, so we won't be able to sample from it, and we'd probably end up having to use some MCMC. That seems overly complicated. The straightforward approach is to do the $x$-integral analytically and then use simple Monte Carlo for $\\theta$ and $\\Sigma$. Now, since we've fitted the distribution over these guys with plenty of data, that should be pretty efficient. We'll go for that option.\n",
      "\n",
      "So, we're going to marginalise $x$ and condition on $y$. A suitable conjugate prior is,\n",
      "\\begin{equation}\n",
      "p(x) = \\mathcal{N}(x|\\mu,\\sigma^2)     .\n",
      "\\end{equation}\n",
      "The marginalisation is easy,\n",
      "\\begin{align}\n",
      "p(\\zeta|\\theta,\\Sigma) &= \\int p(\\zeta|x, \\theta,\\Sigma) p(x) dx \\\\\n",
      " &= \\int \\mathcal{N}(\\zeta|ax+b,\\Sigma) \\mathcal{N}(x|\\mu,\\sigma^2) \\\\\n",
      " &= \\mathcal{N}(\\zeta|a\\mu+b,\\Sigma+\\sigma^2 aa^T) \\\\\n",
      " &= \\mathcal{N}\\left( \\begin{bmatrix}y\\\\z\\end{bmatrix} \\middle| \\begin{bmatrix}a_y \\mu + b_y\\\\a_z \\mu + b_z\\end{bmatrix}, \\begin{bmatrix}\\Sigma_{yy} + \\sigma^2 a_y a_y^T& \\Sigma_{yz} + \\sigma^2 a_y a_z^T \\\\ \\Sigma_{yz}^T+ \\sigma^2 a_z a_y^T & \\Sigma_{zz}+ \\sigma^2 a_z a_z^T \\end{bmatrix} \\right)     .\n",
      "\\end{align}\n",
      "\n",
      "The conditioning isn't too bad either, just the standard formula, but it's starting to get a bit messy,\n",
      "\\begin{equation}\n",
      "p(z|y,\\theta,\\Sigma) = \\mathcal{N}\\left( z \\middle| \\alpha, \\beta \\right)\n",
      "\\end{equation}\n",
      "\\begin{align}\n",
      " \\alpha &= a_z \\mu + b_z + \\left(\\Sigma_{yz} + \\sigma^2 a_y a_z^T\\right)^T\\left(\\Sigma_{yy} + \\sigma^2 a_y a_y^T\\right)^{-1}(y-a_y\\mu-b_y)  \\\\\n",
      " \\beta &= \\Sigma_{zz}+ \\sigma^2 a_z a_z^T - \\left(\\Sigma_{yz} + \\sigma^2 a_y a_z^T\\right)^T\\left(\\Sigma_{yy} + \\sigma^2 a_y a_y^T\\right)^{-1} \\left(\\Sigma_{yz} + \\sigma^2 a_y a_z^T\\right)    .\n",
      "\\end{align}\n",
      "\n",
      "The final step is to set $\\sigma\\to\\infty$, to make our prior omn $x$ uninformative. This is really rather tedious, making sure of all the limits, but the answer comes out as,\n",
      "\\begin{align}\n",
      "\\alpha &= b_z + \\Sigma_{yz}^{T} \\Sigma_{yy}^{-1} (y-b_y) + \\frac{1}{\\gamma} \\left[ a_z - \\Sigma_{yz}^{T} \\Sigma_{yy}^{-1} a_y \\right] a_y^T \\Sigma_{yy}^{-1} (y-b_y) \\\\\n",
      " \\beta &= \\Sigma_{zz} - \\Sigma_{yz}^{T} \\Sigma_{yy}^{-1} \\Sigma_{yz} + \\frac{1}{\\gamma}\\left[ \\Sigma_{yz}^{T} \\Sigma_{yy}^{-1} a_y a_y^T \\Sigma_{yy}^{-1} \\Sigma_{yz} - 2 \\Sigma_{yz}^{T} \\Sigma_{yy}^{-1} a_y a_z + a_z a_z^T \\right] \\\\\n",
      " \\gamma &= a_y^T \\Sigma_{yy}^{-1} a_y     .\n",
      "\\end{align}\n",
      "Note that this does not depend on $\\mu$.\n",
      "\n",
      "Right, we're nearly there. The distribution of the sea ice retreat is now,\n",
      "\\begin{align}\n",
      "p(z|y,X,Z) &= \\int p(z|y,\\theta,\\Sigma) p(\\theta,\\Sigma|X,Z) d\\theta d\\Sigma \\\\\n",
      " &= \\int \\mathcal{N}(z|\\alpha,\\beta) \\mathcal{MN}\\left(\\theta \\middle| M, \\Sigma, V\\right) \\mathcal{IW}\\left(\\Sigma \\middle| \\nu, \\Psi\\right) d\\theta d\\Sigma     ,\n",
      "\\end{align}\n",
      "which we now approximate with Monte Carlo,\n",
      "\\begin{align}\n",
      "p(z|y,X,Z) &\\approx \\sum_{m=1}^M \\mathcal{N}(z|\\alpha^{[m]},\\beta^{[m]})     .\n",
      "\\end{align}\n",
      "$\\alpha^{[m]}$ and $\\beta^{[m]}$ are obtained by sampling $\\theta$ and $\\Sigma$ and calculating the moments. Our finally approximation of the distribution is a Gaussian mixture."
     ]
    },
    {
     "cell_type": "code",
     "collapsed": false,
     "input": [
      "# Observations to condition on\n",
      "y = m[:4]\n",
      "\n",
      "# How many iterations\n",
      "numIt = 1000\n",
      "numDraw = 1000\n",
      "\n",
      "# Create arrays to keep the parameters of the Gaussian mixture\n",
      "A = np.zeros(numIt)\n",
      "B = np.zeros(numIt)\n",
      "\n",
      "# Monte Carlo\n",
      "for mm in range(numIt):\n",
      "    \n",
      "    # Sample some parameters\n",
      "    #Sigma = stats.invwishart.rvs(df=nu,scale=Psi)\n",
      "    SigmaMC = la.inv(sample_wishart(nu,la.inv(Psi)))\n",
      "    thetaMC = sample_matrix_normal(M,Sigma,V)\n",
      "    aMC = thetaMC[:,0]\n",
      "    bMC = thetaMC[:,1]\n",
      "    \n",
      "    # Chop them up as needed\n",
      "    Sigyy = SigmaMC[:4,:4]\n",
      "    Sigyz = SigmaMC[:4,4]\n",
      "    Sigzz = SigmaMC[4,4]\n",
      "    ay    = aMC[:4]\n",
      "    az    = aMC[4]\n",
      "    by    = bMC[:4]\n",
      "    bz    = bMC[4]\n",
      "    \n",
      "    # Find the mean and variance of the corresponding Gaussian\n",
      "    tmp1  = np.dot(Sigyz.T, la.solve(Sigyy,ay))\n",
      "    tmp2  = la.solve(Sigyy,(y-by))\n",
      "    gamma = np.dot(ay.T, la.solve(Sigyy, ay) )\n",
      "    A[mm] = bz + np.dot( Sigyz.T, tmp2 ) + (1/gamma)*np.dot( ( az - tmp1 ), np.dot(ay.T, tmp2) )\n",
      "    B[mm]  = Sigzz - np.dot( Sigyz.T, la.solve(Sigyy,Sigyz) ) + (1/gamma)*(  np.dot(tmp1,tmp1.T) - 2*tmp1*az + az**2  )\n",
      "\n",
      "# Calculate the overall mean and variance\n",
      "zmn = np.mean(A)\n",
      "zvr = np.mean(B + (A-zmn)**2)\n",
      "\n",
      "# Find the PDF using a subset of the MC iterations\n",
      "zrng = np.linspace(0,100,101)\n",
      "zpdf = np.zeros(zrng.shape)\n",
      "for mm in range(numDraw):\n",
      "    zpdf += stats.norm.pdf(zrng,loc=A[mm],scale=np.sqrt(B[mm]))\n",
      "\n",
      "# Draw it\n",
      "fig = plt.figure()\n",
      "ax = fig.add_subplot(1,1,1)\n",
      "ax.plot(zrng,zpdf)\n",
      "plt.show()\n",
      "\n",
      "print(\"Sea ice retreat estimate:\")\n",
      "print(\"Mean = {}\".format(zmn))\n",
      "print(\"Standard deviation = {}\".format(np.sqrt(zvr)))"
     ],
     "language": "python",
     "metadata": {},
     "outputs": [
      {
       "metadata": {},
       "output_type": "display_data",
       "png": "[encoded data removed]",
       "text": [
        "<matplotlib.figure.Figure at 0x7f294009b890>"
       ]
      },
      {
       "output_type": "stream",
       "stream": "stdout",
       "text": [
        "Sea ice retreat estimate:\n",
        "Mean = 56.076395468\n",
        "Standard deviation = 9.41026482444\n"
       ]
      }
     ],
     "prompt_number": 4
    },
    {
     "cell_type": "markdown",
     "metadata": {},
     "source": [
      "And that's it. Looks like the true value ($60$) is within one standard deviation of the mean."
     ]
    },
    {
     "cell_type": "heading",
     "level": 1,
     "metadata": {},
     "source": [
      "Appendix - Checks and Derivations"
     ]
    },
    {
     "cell_type": "code",
     "collapsed": false,
     "input": [
      "# Checking the limits are correct\n",
      "\n",
      "Sigyy = Sigma[:4,:4]\n",
      "Sigyz = Sigma[:4,4]\n",
      "Sigzz = Sigma[4,4]\n",
      "ay    = a[:4]\n",
      "az    = a[4]\n",
      "by    = b[:4]\n",
      "bz    = b[4]\n",
      "\n",
      "tmp1  = np.dot(Sigyz.T, la.solve(Sigyy,ay))\n",
      "tmp2  = la.solve(Sigyy,(y-by))\n",
      "gamma = np.dot(ay.T, la.solve(Sigyy, ay) )\n",
      "alpha = bz + np.dot( Sigyz.T, tmp2 ) + (1/gamma)*np.dot( ( az - tmp1 ), np.dot(ay.T, tmp2) )\n",
      "beta  = Sigzz - np.dot( Sigyz.T, la.solve(Sigyy,Sigyz) ) + (1/gamma)*(  np.dot(tmp1,tmp1.T) - 2*tmp1*az + az**2  )\n",
      "\n",
      "mn = 10\n",
      "vr = 100000000000\n",
      "alphacheck = az*mn+bz+np.dot( (Sigyz+vr*az*ay).T, la.solve( (Sigyy+vr*np.outer(ay,ay)) , (y-ay*mn-by) ) )\n",
      "betacheck  = Sigzz + vr*az**2 - np.dot( (Sigyz+vr*az*ay).T, la.solve( (Sigyy+vr*np.outer(ay,ay)) , (Sigyz+vr*az*ay) ) )\n",
      "\n",
      "print(alpha)\n",
      "print(alphacheck)\n",
      "print('')\n",
      "print(beta)\n",
      "print(betacheck)"
     ],
     "language": "python",
     "metadata": {},
     "outputs": [
      {
       "output_type": "stream",
       "stream": "stdout",
       "text": [
        "64.0\n",
        "63.9999999822\n",
        "\n",
        "21.45\n",
        "21.4500083923\n"
       ]
      }
     ],
     "prompt_number": 5
    }
   ],
   "metadata": {}
  }
 ]
}